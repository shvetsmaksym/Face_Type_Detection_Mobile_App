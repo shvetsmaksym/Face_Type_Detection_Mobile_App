{
 "cells": [
  {
   "cell_type": "code",
   "execution_count": 47,
   "id": "07ae1159",
   "metadata": {},
   "outputs": [],
   "source": [
    "import os\n",
    "import cv2\n",
    "import numpy as np\n",
    "import matplotlib.pyplot as plt"
   ]
  },
  {
   "cell_type": "code",
   "execution_count": 31,
   "id": "21220384",
   "metadata": {},
   "outputs": [],
   "source": [
    "FACE_IMG_DIR = \"Data/testing_set/Heart\"\n",
    "GLASSES_IMG_PATH = 'glasses_images/heart'"
   ]
  },
  {
   "cell_type": "code",
   "execution_count": 123,
   "id": "a270492e",
   "metadata": {},
   "outputs": [],
   "source": [
    "filepath = os.path.join(FACE_IMG_DIR, os.listdir(FACE_IMG_DIR)[29])\n",
    "img = cv2.imread(filepath)"
   ]
  },
  {
   "cell_type": "code",
   "execution_count": 124,
   "id": "9b9147ba",
   "metadata": {},
   "outputs": [],
   "source": [
    "cv2.imshow('heart', img)\n",
    "cv2.waitKey(0)\n",
    "cv2.destroyAllWindows()"
   ]
  },
  {
   "cell_type": "code",
   "execution_count": null,
   "id": "067a042d",
   "metadata": {},
   "outputs": [],
   "source": []
  },
  {
   "cell_type": "code",
   "execution_count": 98,
   "id": "4b642579",
   "metadata": {},
   "outputs": [],
   "source": [
    "filepath = os.path.join(GLASSES_IMG_PATH, os.listdir(GLASSES_IMG_PATH)[0])\n",
    "glasses = cv2.imread(filepath, 1)"
   ]
  },
  {
   "cell_type": "code",
   "execution_count": 35,
   "id": "aaeb7f2e",
   "metadata": {},
   "outputs": [],
   "source": [
    "cv2.imshow('heart', glass)\n",
    "cv2.waitKey(0)\n",
    "cv2.destroyAllWindows()"
   ]
  },
  {
   "cell_type": "code",
   "execution_count": 36,
   "id": "99161124",
   "metadata": {},
   "outputs": [],
   "source": [
    "eye_classifier = cv2.CascadeClassifier(cv2.data.haarcascades + \"haarcascade_eye.xml\")"
   ]
  },
  {
   "cell_type": "code",
   "execution_count": 46,
   "id": "13575363",
   "metadata": {},
   "outputs": [],
   "source": [
    "# resized_glasses = cv2.resize(glasses, dim, interpolation = cv2.INTER_AREA)\n",
    "\n",
    "gray = cv2.cvtColor(img, cv2.COLOR_BGR2GRAY)\n",
    "\n",
    "eye = eye_classifier.detectMultiScale(gray, 1.3, 9)    \n",
    "for (x,y,w,h) in eye:\n",
    "    print(x,y,w,h)\n",
    "    if h > 0 and w > 0:\n",
    "        h, w = int(3*h), int(4.5*w)\n",
    "        y -= 30\n",
    "        x -= 130\n",
    "\n",
    "        # Once again pay attention that here(x,y,h,w)is not alaways the face, but in this case this is the postiton of the left eye\n",
    "        img_roi = img[y:y+h, x:x+w]\n",
    "\n",
    "        sunglasses_small = cv2.resize(glasses, (w, h),  interpolation=cv2.INTER_AREA)\n",
    "        gray_sunglasses = cv2.cvtColor(sunglasses_small, cv2.COLOR_BGR2GRAY)\n",
    "\n",
    "        ret, mask = cv2.threshold(gray_sunglasses, 230, 255,  cv2.THRESH_BINARY_INV)\n",
    "        mask_inv = cv2.bitwise_not(mask)\n",
    "        masked_face = cv2.bitwise_and(sunglasses_small, sunglasses_small, mask=mask)\n",
    "\n",
    "        masked_frame = cv2.bitwise_and(img_roi,  img_roi, mask=mask_inv)\n",
    "        img[y:y+h, x:x+w] = cv2.add(masked_face,  masked_frame)\n",
    "\n",
    "cv2.imshow('img', img)\n",
    "cv2.waitKey(0)\n",
    "cv2.destroyAllWindows()"
   ]
  },
  {
   "cell_type": "code",
   "execution_count": 125,
   "id": "cce0d5e8",
   "metadata": {},
   "outputs": [],
   "source": [
    "image = img\n",
    "glass_img = glasses"
   ]
  },
  {
   "cell_type": "code",
   "execution_count": 126,
   "id": "8cdf5fdc",
   "metadata": {},
   "outputs": [],
   "source": [
    "face_cascade = cv2.CascadeClassifier(cv2.data.haarcascades + \"haarcascade_frontalface_default.xml\")\n",
    "eye_cascade = cv2.CascadeClassifier(cv2.data.haarcascades + 'haarcascade_eye.xml')\n",
    "\n",
    "gray = cv2.cvtColor(image, cv2.COLOR_BGR2GRAY)\n",
    "\n",
    "centers = []\n",
    "faces = face_cascade.detectMultiScale(gray, 1.3, 9)\n",
    "\n",
    "# iterating over the face detected\n",
    "for (x, y, w, h) in faces:\n",
    "\n",
    "    # create two Regions of Interest.\n",
    "    roi_gray = gray[y:y + h, x:x + w]\n",
    "    roi_color = image[y:y + h, x:x + w]\n",
    "    eyes = eye_cascade.detectMultiScale(roi_gray)\n",
    "\n",
    "    # Store the coordinates of eyes in the image to the 'center' array\n",
    "    for (ex, ey, ew, eh) in eyes:\n",
    "        centers.append((x + int(ex + 0.5 * ew), y + int(ey + 0.5 * eh)))\n",
    "\n",
    "if len(centers) > 0:\n",
    "    # change the given value of 2.15 according to the size of the detected face\n",
    "    glasses_width = 2.16 * abs(centers[1][0] - centers[0][0])\n",
    "    overlay_img = np.ones(image.shape, np.uint8) * 255\n",
    "    h, w = glass_img.shape[:2]\n",
    "    scaling_factor = glasses_width / w\n",
    "\n",
    "    overlay_glasses = cv2.resize(glass_img, None, fx=scaling_factor, fy=scaling_factor, interpolation=cv2.INTER_AREA)\n",
    "\n",
    "    x = centers[0][0] if centers[0][0] < centers[1][0] else centers[1][0]\n",
    "\n",
    "    # The x and y variables below depend upon the size of the detected face.\n",
    "    x -= 0.26 * overlay_glasses.shape[1]\n",
    "    y += 0.85 * overlay_glasses.shape[0]\n",
    "\n",
    "    # Slice the height, width of the overlay image.\n",
    "    h, w = overlay_glasses.shape[:2]\n",
    "    overlay_img[int(y):int(y + h), int(x):int(x + w)] = overlay_glasses\n",
    "    # Create a mask and generate it's inverse.\n",
    "    gray_glasses = cv2.cvtColor(overlay_img, cv2.COLOR_BGR2GRAY)\n",
    "    ret, mask = cv2.threshold(gray_glasses, 110, 255, cv2.THRESH_BINARY)\n",
    "    mask_inv = cv2.bitwise_not(mask)\n",
    "    temp = cv2.bitwise_and(image, image, mask=mask)\n",
    "\n",
    "    temp2 = cv2.bitwise_and(overlay_img, overlay_img, mask=mask_inv)\n",
    "    final_img = cv2.add(temp, temp2)\n",
    "\n",
    "    # imS = cv2.resize(final_img, (1366, 768))\n",
    "    cv2.imshow('Lets wear Glasses', final_img)\n",
    "    cv2.waitKey()\n",
    "    cv2.destroyAllWindows()"
   ]
  },
  {
   "cell_type": "code",
   "execution_count": 82,
   "id": "61abc8b1",
   "metadata": {},
   "outputs": [],
   "source": [
    "cv2.imshow('Lets wear Glasses', image)\n",
    "cv2.waitKey()\n",
    "cv2.destroyAllWindows()"
   ]
  },
  {
   "cell_type": "code",
   "execution_count": null,
   "id": "bcb60dc9",
   "metadata": {},
   "outputs": [],
   "source": []
  }
 ],
 "metadata": {
  "kernelspec": {
   "display_name": "Python 3",
   "language": "python",
   "name": "python3"
  },
  "language_info": {
   "codemirror_mode": {
    "name": "ipython",
    "version": 3
   },
   "file_extension": ".py",
   "mimetype": "text/x-python",
   "name": "python",
   "nbconvert_exporter": "python",
   "pygments_lexer": "ipython3",
   "version": "3.6.8"
  }
 },
 "nbformat": 4,
 "nbformat_minor": 5
}
